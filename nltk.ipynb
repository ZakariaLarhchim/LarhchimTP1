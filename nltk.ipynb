{
  "nbformat": 4,
  "nbformat_minor": 0,
  "metadata": {
    "colab": {
      "name": "nltk.ipynb",
      "provenance": [],
      "collapsed_sections": []
    },
    "kernelspec": {
      "name": "python3",
      "display_name": "Python 3"
    },
    "language_info": {
      "name": "python"
    }
  },
  "cells": [
    {
      "cell_type": "code",
      "metadata": {
        "id": "w9RYYMo3GnZl",
        "outputId": "9aa168ed-8035-4a47-80cf-34090e22edda",
        "colab": {
          "base_uri": "https://localhost:8080/"
        }
      },
      "source": [
        "import nltk, string\n",
        "from nltk.stem.isri import ISRIStemmer\n",
        "from nltk.tokenize import word_tokenize\n",
        "\n",
        "nltk.download('stopwords')\n",
        "nltk.download('punkt')\n",
        "\n",
        "from nltk.corpus import stopwords\n",
        "from nltk.stem.porter import PorterStemmer\n",
        "from nltk import pos_tag\n",
        "nltk.download('averaged_perceptron_tagger')\n",
        "\n",
        "text = '''ربما كانت أحد أهم التطورات التي قامت بها الرياضيات العربية التي بدأت في هذا الوقت بعمل الخوارزمي و هي بدايات الجبر، و من المهم فهم كيف كانت هذه الفكرة الجديدة مهمة، فقد كانت خطوة ثورية بعيدا عن المفهوم اليوناني للرياضيات التي هي في جوهرها هندسة، الجبر كان نظرية موحدة تتيح الأعداد الكسرية و الأعداد اللا كسرية، و المقادير الهندسية و غيرها، أن تتعامل على أنها أجسام جبرية، و أعطت الرياضيات ككل مسارا جديدا للتطور بمفهوم أوسع بكثير من الذي كان موجودا من قبل، و قدم وسيلة للتنمية في هذا الموضوع مستقبلا و جانب آخر مهم لإدخال أفكار الجبر و هو أنه سمح بتطبيق الرياضيات على نفسها بطريقة لم تحدث من قبل'''\n",
        "text_punctuation = \"\".join([char for char in text if char not in string.punctuation])\n",
        "\n",
        "print(text_punctuation)\n",
        "words = word_tokenize(text_punctuation)\n",
        "print(words)\n",
        "arb_stopwords = set(nltk.corpus.stopwords.words(\"arabic\"))\n",
        "filtered_words = [word for word in words if word not in arb_stopwords]\n",
        "print(filtered_words)\n",
        "porter = PorterStemmer()\n",
        "stemmed = [porter.stem(word) for word in filtered_words]\n",
        "print(stemmed)"
      ],
      "execution_count": 1,
      "outputs": [
        {
          "output_type": "stream",
          "text": [
            "[nltk_data] Downloading package stopwords to /root/nltk_data...\n",
            "[nltk_data]   Unzipping corpora/stopwords.zip.\n",
            "[nltk_data] Downloading package punkt to /root/nltk_data...\n",
            "[nltk_data]   Unzipping tokenizers/punkt.zip.\n",
            "[nltk_data] Downloading package averaged_perceptron_tagger to\n",
            "[nltk_data]     /root/nltk_data...\n",
            "[nltk_data]   Unzipping taggers/averaged_perceptron_tagger.zip.\n",
            "ربما كانت أحد أهم التطورات التي قامت بها الرياضيات العربية التي بدأت في هذا الوقت بعمل الخوارزمي و هي بدايات الجبر، و من المهم فهم كيف كانت هذه الفكرة الجديدة مهمة، فقد كانت خطوة ثورية بعيدا عن المفهوم اليوناني للرياضيات التي هي في جوهرها هندسة، الجبر كان نظرية موحدة تتيح الأعداد الكسرية و الأعداد اللا كسرية، و المقادير الهندسية و غيرها، أن تتعامل على أنها أجسام جبرية، و أعطت الرياضيات ككل مسارا جديدا للتطور بمفهوم أوسع بكثير من الذي كان موجودا من قبل، و قدم وسيلة للتنمية في هذا الموضوع مستقبلا و جانب آخر مهم لإدخال أفكار الجبر و هو أنه سمح بتطبيق الرياضيات على نفسها بطريقة لم تحدث من قبل\n",
            "['ربما', 'كانت', 'أحد', 'أهم', 'التطورات', 'التي', 'قامت', 'بها', 'الرياضيات', 'العربية', 'التي', 'بدأت', 'في', 'هذا', 'الوقت', 'بعمل', 'الخوارزمي', 'و', 'هي', 'بدايات', 'الجبر،', 'و', 'من', 'المهم', 'فهم', 'كيف', 'كانت', 'هذه', 'الفكرة', 'الجديدة', 'مهمة،', 'فقد', 'كانت', 'خطوة', 'ثورية', 'بعيدا', 'عن', 'المفهوم', 'اليوناني', 'للرياضيات', 'التي', 'هي', 'في', 'جوهرها', 'هندسة،', 'الجبر', 'كان', 'نظرية', 'موحدة', 'تتيح', 'الأعداد', 'الكسرية', 'و', 'الأعداد', 'اللا', 'كسرية،', 'و', 'المقادير', 'الهندسية', 'و', 'غيرها،', 'أن', 'تتعامل', 'على', 'أنها', 'أجسام', 'جبرية،', 'و', 'أعطت', 'الرياضيات', 'ككل', 'مسارا', 'جديدا', 'للتطور', 'بمفهوم', 'أوسع', 'بكثير', 'من', 'الذي', 'كان', 'موجودا', 'من', 'قبل،', 'و', 'قدم', 'وسيلة', 'للتنمية', 'في', 'هذا', 'الموضوع', 'مستقبلا', 'و', 'جانب', 'آخر', 'مهم', 'لإدخال', 'أفكار', 'الجبر', 'و', 'هو', 'أنه', 'سمح', 'بتطبيق', 'الرياضيات', 'على', 'نفسها', 'بطريقة', 'لم', 'تحدث', 'من', 'قبل']\n",
            "['ربما', 'كانت', 'أحد', 'أهم', 'التطورات', 'قامت', 'الرياضيات', 'العربية', 'بدأت', 'الوقت', 'بعمل', 'الخوارزمي', 'و', 'بدايات', 'الجبر،', 'و', 'المهم', 'فهم', 'كانت', 'الفكرة', 'الجديدة', 'مهمة،', 'فقد', 'كانت', 'خطوة', 'ثورية', 'بعيدا', 'المفهوم', 'اليوناني', 'للرياضيات', 'جوهرها', 'هندسة،', 'الجبر', 'كان', 'نظرية', 'موحدة', 'تتيح', 'الأعداد', 'الكسرية', 'و', 'الأعداد', 'اللا', 'كسرية،', 'و', 'المقادير', 'الهندسية', 'و', 'غيرها،', 'تتعامل', 'أنها', 'أجسام', 'جبرية،', 'و', 'أعطت', 'الرياضيات', 'ككل', 'مسارا', 'جديدا', 'للتطور', 'بمفهوم', 'أوسع', 'بكثير', 'كان', 'موجودا', 'قبل،', 'و', 'قدم', 'وسيلة', 'للتنمية', 'الموضوع', 'مستقبلا', 'و', 'جانب', 'آخر', 'مهم', 'لإدخال', 'أفكار', 'الجبر', 'و', 'أنه', 'سمح', 'بتطبيق', 'الرياضيات', 'نفسها', 'بطريقة', 'تحدث', 'قبل']\n",
            "['ربما', 'كانت', 'أحد', 'أهم', 'التطورات', 'قامت', 'الرياضيات', 'العربية', 'بدأت', 'الوقت', 'بعمل', 'الخوارزمي', 'و', 'بدايات', 'الجبر،', 'و', 'المهم', 'فهم', 'كانت', 'الفكرة', 'الجديدة', 'مهمة،', 'فقد', 'كانت', 'خطوة', 'ثورية', 'بعيدا', 'المفهوم', 'اليوناني', 'للرياضيات', 'جوهرها', 'هندسة،', 'الجبر', 'كان', 'نظرية', 'موحدة', 'تتيح', 'الأعداد', 'الكسرية', 'و', 'الأعداد', 'اللا', 'كسرية،', 'و', 'المقادير', 'الهندسية', 'و', 'غيرها،', 'تتعامل', 'أنها', 'أجسام', 'جبرية،', 'و', 'أعطت', 'الرياضيات', 'ككل', 'مسارا', 'جديدا', 'للتطور', 'بمفهوم', 'أوسع', 'بكثير', 'كان', 'موجودا', 'قبل،', 'و', 'قدم', 'وسيلة', 'للتنمية', 'الموضوع', 'مستقبلا', 'و', 'جانب', 'آخر', 'مهم', 'لإدخال', 'أفكار', 'الجبر', 'و', 'أنه', 'سمح', 'بتطبيق', 'الرياضيات', 'نفسها', 'بطريقة', 'تحدث', 'قبل']\n"
          ],
          "name": "stdout"
        }
      ]
    },
    {
      "cell_type": "code",
      "metadata": {
        "colab": {
          "base_uri": "https://localhost:8080/"
        },
        "id": "lHs0l8SFHLFv",
        "outputId": "e1b78061-7e7b-401c-86ae-df5333d928d1"
      },
      "source": [
        "import nltk, string\n",
        "from nltk.tokenize import word_tokenize\n",
        "nltk.download('stopwords')\n",
        "nltk.download('punkt')\n",
        "nltk.download('averaged_perceptron_tagger')\n",
        "\n",
        "from nltk.corpus import stopwords\n",
        "from nltk.stem.porter import PorterStemmer\n",
        "from nltk import pos_tag\n",
        "stop_words = stopwords.words('english')\n",
        "\n",
        "text = \"\"\"Perhaps one of the most significant advances made by Arabic mathematics began at this time with the work of al-Khwarizmi, namely the beginnings of algebra. It is important to understand just how significant this new idea was. It was a revolutionary move away from the Greek concept of mathematics which was essentially geometry. Algebra was a unifying theory which allowed rational numbers, irrational numbers, geometrical magnitudes, etc., to all be treated as \"algebraic objects\". It gave mathematics a whole new development path so much broader in concept to that which had existed before, and provided a vehicle for future development of the subject. Another important aspect of the introduction of algebraic ideas was that it allowed mathematics to be applied to itself in a way which had not happened before.\"\"\"\n",
        "text = text.lower()\n",
        "text_punctuation = \"\".join([char for char in text if char not in string.punctuation])\n",
        "words = word_tokenize(text_punctuation)\n",
        "filtered_words = [word for word in words if word not in stop_words]\n",
        "porter = PorterStemmer()\n",
        "stemmed = [porter.stem(word) for word in filtered_words]\n",
        "pos = pos_tag(filtered_words)\n",
        "print(pos)"
      ],
      "execution_count": 2,
      "outputs": [
        {
          "output_type": "stream",
          "text": [
            "[nltk_data] Downloading package stopwords to /root/nltk_data...\n",
            "[nltk_data]   Package stopwords is already up-to-date!\n",
            "[nltk_data] Downloading package punkt to /root/nltk_data...\n",
            "[nltk_data]   Package punkt is already up-to-date!\n",
            "[nltk_data] Downloading package averaged_perceptron_tagger to\n",
            "[nltk_data]     /root/nltk_data...\n",
            "[nltk_data]   Package averaged_perceptron_tagger is already up-to-\n",
            "[nltk_data]       date!\n",
            "[('perhaps', 'RB'), ('one', 'CD'), ('significant', 'JJ'), ('advances', 'NNS'), ('made', 'VBN'), ('arabic', 'JJ'), ('mathematics', 'NNS'), ('began', 'VBD'), ('time', 'NN'), ('work', 'NN'), ('alkhwarizmi', 'RB'), ('namely', 'RB'), ('beginnings', 'JJ'), ('algebra', 'NN'), ('important', 'JJ'), ('understand', 'NN'), ('significant', 'JJ'), ('new', 'JJ'), ('idea', 'NN'), ('revolutionary', 'JJ'), ('move', 'VB'), ('away', 'RB'), ('greek', 'JJ'), ('concept', 'NN'), ('mathematics', 'NNS'), ('essentially', 'RB'), ('geometry', 'VBP'), ('algebra', 'JJ'), ('unifying', 'VBG'), ('theory', 'NN'), ('allowed', 'VBN'), ('rational', 'JJ'), ('numbers', 'NNS'), ('irrational', 'JJ'), ('numbers', 'NNS'), ('geometrical', 'JJ'), ('magnitudes', 'NNS'), ('etc', 'VBP'), ('treated', 'VBN'), ('algebraic', 'JJ'), ('objects', 'NNS'), ('gave', 'VBD'), ('mathematics', 'NNS'), ('whole', 'JJ'), ('new', 'JJ'), ('development', 'NN'), ('path', 'NN'), ('much', 'JJ'), ('broader', 'JJR'), ('concept', 'NN'), ('existed', 'VBD'), ('provided', 'JJ'), ('vehicle', 'NN'), ('future', 'NN'), ('development', 'NN'), ('subject', 'NN'), ('another', 'DT'), ('important', 'JJ'), ('aspect', 'NN'), ('introduction', 'NN'), ('algebraic', 'IN'), ('ideas', 'NNS'), ('allowed', 'VBN'), ('mathematics', 'NNS'), ('applied', 'VBD'), ('way', 'NN'), ('happened', 'VBD')]\n"
          ],
          "name": "stdout"
        }
      ]
    }
  ]
}